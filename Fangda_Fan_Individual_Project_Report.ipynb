{
 "cells": [
  {
   "cell_type": "code",
   "execution_count": 1,
   "id": "06b7800f",
   "metadata": {},
   "outputs": [],
   "source": [
    "import pandas as pd \n",
    "import numpy as np \n",
    "from surprise import KNNBasic, SVD, CoClustering, Dataset, Reader\n",
    "from IESEGRecSys import eval\n",
    "from IESEGRecSys.model import ContentBased\n",
    "from sklearn.model_selection import train_test_split\n",
    "\n",
    "import surprise\n",
    "import matplotlib.pyplot as plt"
   ]
  },
  {
   "cell_type": "code",
   "execution_count": 2,
   "id": "dc88d341",
   "metadata": {},
   "outputs": [],
   "source": [
    "# Import user-rating matrix\n",
    "amz = pd.read_csv('C:/Users/ffan1/OneDrive - IESEG (1)/Recommendation Systems/Individual Project/recsys-2022/train.csv')\n"
   ]
  },
  {
   "cell_type": "code",
   "execution_count": 3,
   "id": "12f5e902",
   "metadata": {},
   "outputs": [],
   "source": [
    "# import test set\n",
    "test_cf = pd.read_csv('C:/Users/ffan1/OneDrive - IESEG (1)/Recommendation Systems/Individual Project/recsys-2022/test_students.csv')"
   ]
  },
  {
   "cell_type": "code",
   "execution_count": 49,
   "id": "77fc7a51",
   "metadata": {},
   "outputs": [
    {
     "data": {
      "text/plain": [
       "Index(['userID', 'overall', 'asin', 'vote', 'reviewText', 'summary', 'style',\n",
       "       'image'],\n",
       "      dtype='object')"
      ]
     },
     "execution_count": 49,
     "metadata": {},
     "output_type": "execute_result"
    }
   ],
   "source": [
    "# inspect columns\n",
    "amz.columns"
   ]
  },
  {
   "cell_type": "code",
   "execution_count": 50,
   "id": "7f402ab7",
   "metadata": {},
   "outputs": [
    {
     "data": {
      "text/html": [
       "<div>\n",
       "<style scoped>\n",
       "    .dataframe tbody tr th:only-of-type {\n",
       "        vertical-align: middle;\n",
       "    }\n",
       "\n",
       "    .dataframe tbody tr th {\n",
       "        vertical-align: top;\n",
       "    }\n",
       "\n",
       "    .dataframe thead th {\n",
       "        text-align: right;\n",
       "    }\n",
       "</style>\n",
       "<table border=\"1\" class=\"dataframe\">\n",
       "  <thead>\n",
       "    <tr style=\"text-align: right;\">\n",
       "      <th></th>\n",
       "      <th>userID</th>\n",
       "      <th>overall</th>\n",
       "      <th>asin</th>\n",
       "      <th>vote</th>\n",
       "      <th>reviewText</th>\n",
       "      <th>summary</th>\n",
       "      <th>style</th>\n",
       "      <th>image</th>\n",
       "    </tr>\n",
       "  </thead>\n",
       "  <tbody>\n",
       "    <tr>\n",
       "      <th>0</th>\n",
       "      <td>13527</td>\n",
       "      <td>5.0</td>\n",
       "      <td>B0002565TI</td>\n",
       "      <td>NaN</td>\n",
       "      <td>These filters used to be sold at PetCo, but no...</td>\n",
       "      <td>Great Place to Get Filte-rs</td>\n",
       "      <td>NaN</td>\n",
       "      <td>NaN</td>\n",
       "    </tr>\n",
       "    <tr>\n",
       "      <th>1</th>\n",
       "      <td>14608</td>\n",
       "      <td>2.0</td>\n",
       "      <td>B0002H3ZLM</td>\n",
       "      <td>NaN</td>\n",
       "      <td>Did not work for my large- does. Returned it.</td>\n",
       "      <td>T#wo Stars</td>\n",
       "      <td>{'Size:': ' LARGE 60-130 LBS.', 'Color:': ' BL...</td>\n",
       "      <td>NaN</td>\n",
       "    </tr>\n",
       "    <tr>\n",
       "      <th>2</th>\n",
       "      <td>15536</td>\n",
       "      <td>5.0</td>\n",
       "      <td>B0009YD8OC</td>\n",
       "      <td>NaN</td>\n",
       "      <td>I was pretty skeptical that this would be easy...</td>\n",
       "      <td>stops pulling in a 6 month 60{ pound pup great!</td>\n",
       "      <td>NaN</td>\n",
       "      <td>NaN</td>\n",
       "    </tr>\n",
       "    <tr>\n",
       "      <th>3</th>\n",
       "      <td>12868</td>\n",
       "      <td>5.0</td>\n",
       "      <td>B001VPA9OK</td>\n",
       "      <td>NaN</td>\n",
       "      <td>Works great for groom-ing my dog. A must have.</td>\n",
       "      <td>Five /Stars</td>\n",
       "      <td>{'Color:': ' Silver'}</td>\n",
       "      <td>NaN</td>\n",
       "    </tr>\n",
       "    <tr>\n",
       "      <th>4</th>\n",
       "      <td>181</td>\n",
       "      <td>5.0</td>\n",
       "      <td>B000K67UF2</td>\n",
       "      <td>NaN</td>\n",
       "      <td>Great cage for budgies! I cant say enough marv...</td>\n",
       "      <td>Great cage for budg{ies</td>\n",
       "      <td>{'Size:': ' Medium', 'Pattern:': ' MO2 Cage'}</td>\n",
       "      <td>NaN</td>\n",
       "    </tr>\n",
       "  </tbody>\n",
       "</table>\n",
       "</div>"
      ],
      "text/plain": [
       "   userID  overall        asin vote  \\\n",
       "0   13527      5.0  B0002565TI  NaN   \n",
       "1   14608      2.0  B0002H3ZLM  NaN   \n",
       "2   15536      5.0  B0009YD8OC  NaN   \n",
       "3   12868      5.0  B001VPA9OK  NaN   \n",
       "4     181      5.0  B000K67UF2  NaN   \n",
       "\n",
       "                                          reviewText  \\\n",
       "0  These filters used to be sold at PetCo, but no...   \n",
       "1      Did not work for my large- does. Returned it.   \n",
       "2  I was pretty skeptical that this would be easy...   \n",
       "3     Works great for groom-ing my dog. A must have.   \n",
       "4  Great cage for budgies! I cant say enough marv...   \n",
       "\n",
       "                                           summary  \\\n",
       "0                      Great Place to Get Filte-rs   \n",
       "1                                       T#wo Stars   \n",
       "2  stops pulling in a 6 month 60{ pound pup great!   \n",
       "3                                      Five /Stars   \n",
       "4                          Great cage for budg{ies   \n",
       "\n",
       "                                               style image  \n",
       "0                                                NaN   NaN  \n",
       "1  {'Size:': ' LARGE 60-130 LBS.', 'Color:': ' BL...   NaN  \n",
       "2                                                NaN   NaN  \n",
       "3                              {'Color:': ' Silver'}   NaN  \n",
       "4      {'Size:': ' Medium', 'Pattern:': ' MO2 Cage'}   NaN  "
      ]
     },
     "execution_count": 50,
     "metadata": {},
     "output_type": "execute_result"
    }
   ],
   "source": [
    "amz.head()"
   ]
  },
  {
   "cell_type": "code",
   "execution_count": 51,
   "id": "01656c97",
   "metadata": {},
   "outputs": [
    {
     "name": "stdout",
     "output_type": "stream",
     "text": [
      "2310\n",
      "22181\n"
     ]
    }
   ],
   "source": [
    "# number of items\n",
    "print(len(amz.asin.unique()))\n",
    "\n",
    "# number of users\n",
    "print(len(amz.userID.unique()))"
   ]
  },
  {
   "cell_type": "code",
   "execution_count": 52,
   "id": "2353de50",
   "metadata": {},
   "outputs": [
    {
     "name": "stdout",
     "output_type": "stream",
     "text": [
      "userID             0\n",
      "overall            0\n",
      "asin               0\n",
      "vote          145992\n",
      "reviewText         2\n",
      "summary            1\n",
      "style          29641\n",
      "image         157207\n",
      "dtype: int64\n"
     ]
    }
   ],
   "source": [
    "# check missing values\n",
    "print(amz.isna().sum())"
   ]
  },
  {
   "cell_type": "code",
   "execution_count": 53,
   "id": "e92b7e44",
   "metadata": {},
   "outputs": [
    {
     "data": {
      "text/plain": [
       "(161753, 8)"
      ]
     },
     "execution_count": 53,
     "metadata": {},
     "output_type": "execute_result"
    }
   ],
   "source": [
    "amz.shape"
   ]
  },
  {
   "cell_type": "code",
   "execution_count": 54,
   "id": "80a8938c",
   "metadata": {},
   "outputs": [
    {
     "data": {
      "text/plain": [
       "<AxesSubplot:>"
      ]
     },
     "execution_count": 54,
     "metadata": {},
     "output_type": "execute_result"
    },
    {
     "data": {
      "image/png": "[encoded data removed]",
      "text/plain": [
       "<Figure size 432x288 with 1 Axes>"
      ]
     },
     "metadata": {
      "needs_background": "light"
     },
     "output_type": "display_data"
    }
   ],
   "source": [
    "# Long tail\n",
    "amz.asin.value_counts().clip(upper=5000).hist(bins=20)"
   ]
  },
  {
   "cell_type": "code",
   "execution_count": 55,
   "id": "3fbee41d",
   "metadata": {},
   "outputs": [
    {
     "data": {
      "text/plain": [
       "<matplotlib.legend.Legend at 0x23fe124f7f0>"
      ]
     },
     "execution_count": 55,
     "metadata": {},
     "output_type": "execute_result"
    },
    {
     "data": {
      "image/png": "[encoded data removed]",
      "text/plain": [
       "<Figure size 432x288 with 1 Axes>"
      ]
     },
     "metadata": {
      "needs_background": "light"
     },
     "output_type": "display_data"
    }
   ],
   "source": [
    "# average number of reviews per item\n",
    "reviews_item = amz.groupby('asin').agg({'overall':'count'})\n",
    "\n",
    "#histogram\n",
    "reviews_item.clip(upper=1000).hist(bins=40)\n",
    "\n",
    "plt.axvline(x=reviews_item.mean().item(), label=f\"Mean reviews per Item is {reviews_item.mean().item():.1f}\", c=\"k\")\n",
    "plt.axvline(x=reviews_item.median().item(), label=f\"Median reviews per Item is {reviews_item.median().item():.1f}\", c=\"r\")\n",
    "plt.legend()"
   ]
  },
  {
   "cell_type": "code",
   "execution_count": 56,
   "id": "dd6d514d",
   "metadata": {},
   "outputs": [
    {
     "data": {
      "text/plain": [
       "<matplotlib.legend.Legend at 0x23fd4f15c70>"
      ]
     },
     "execution_count": 56,
     "metadata": {},
     "output_type": "execute_result"
    },
    {
     "data": {
      "image/png": "[encoded data removed]",
      "text/plain": [
       "<Figure size 432x288 with 1 Axes>"
      ]
     },
     "metadata": {
      "needs_background": "light"
     },
     "output_type": "display_data"
    }
   ],
   "source": [
    "# average number of items rated by users\n",
    "reviews_user = amz.groupby('userID').agg({'overall':'count'})\n",
    "\n",
    "#histogram\n",
    "reviews_user.clip(upper=10).hist(bins=20)\n",
    "\n",
    "plt.axvline(x=reviews_user.mean().item(), label=f\"Mean reviews per User is {reviews_user.mean().item():.1f}\", c=\"k\")\n",
    "plt.axvline(x=reviews_user.median().item(), label=f\"Median reviews per User {reviews_user.median().item():.1f}\", c=\"r\")\n",
    "plt.legend()"
   ]
  },
  {
   "cell_type": "code",
   "execution_count": 4,
   "id": "a33f0ffe",
   "metadata": {},
   "outputs": [
    {
     "data": {
      "text/html": [
       "<div>\n",
       "<style scoped>\n",
       "    .dataframe tbody tr th:only-of-type {\n",
       "        vertical-align: middle;\n",
       "    }\n",
       "\n",
       "    .dataframe tbody tr th {\n",
       "        vertical-align: top;\n",
       "    }\n",
       "\n",
       "    .dataframe thead th {\n",
       "        text-align: right;\n",
       "    }\n",
       "</style>\n",
       "<table border=\"1\" class=\"dataframe\">\n",
       "  <thead>\n",
       "    <tr style=\"text-align: right;\">\n",
       "      <th></th>\n",
       "      <th>ID</th>\n",
       "      <th>userID</th>\n",
       "      <th>asin</th>\n",
       "      <th>overall</th>\n",
       "    </tr>\n",
       "  </thead>\n",
       "  <tbody>\n",
       "    <tr>\n",
       "      <th>0</th>\n",
       "      <td>21069B00BFK2B24</td>\n",
       "      <td>21069</td>\n",
       "      <td>B00BFK2B24</td>\n",
       "      <td>0.0</td>\n",
       "    </tr>\n",
       "    <tr>\n",
       "      <th>1</th>\n",
       "      <td>3506B00ZK0Y7R2</td>\n",
       "      <td>3506</td>\n",
       "      <td>B00ZK0Y7R2</td>\n",
       "      <td>0.0</td>\n",
       "    </tr>\n",
       "    <tr>\n",
       "      <th>2</th>\n",
       "      <td>21907B0002AQPA2</td>\n",
       "      <td>21907</td>\n",
       "      <td>B0002AQPA2</td>\n",
       "      <td>0.0</td>\n",
       "    </tr>\n",
       "    <tr>\n",
       "      <th>3</th>\n",
       "      <td>14092B0002DHXX2</td>\n",
       "      <td>14092</td>\n",
       "      <td>B0002DHXX2</td>\n",
       "      <td>0.0</td>\n",
       "    </tr>\n",
       "    <tr>\n",
       "      <th>4</th>\n",
       "      <td>3085B0006VB3SQ</td>\n",
       "      <td>3085</td>\n",
       "      <td>B0006VB3SQ</td>\n",
       "      <td>0.0</td>\n",
       "    </tr>\n",
       "  </tbody>\n",
       "</table>\n",
       "</div>"
      ],
      "text/plain": [
       "                ID  userID        asin  overall\n",
       "0  21069B00BFK2B24   21069  B00BFK2B24      0.0\n",
       "1   3506B00ZK0Y7R2    3506  B00ZK0Y7R2      0.0\n",
       "2  21907B0002AQPA2   21907  B0002AQPA2      0.0\n",
       "3  14092B0002DHXX2   14092  B0002DHXX2      0.0\n",
       "4   3085B0006VB3SQ    3085  B0006VB3SQ      0.0"
      ]
     },
     "execution_count": 4,
     "metadata": {},
     "output_type": "execute_result"
    }
   ],
   "source": [
    "a = np.zeros((76043, 1))\n",
    "test_cf['overall'] = a\n",
    "test_cf.head()"
   ]
  },
  {
   "cell_type": "code",
   "execution_count": 5,
   "id": "30ec8b93",
   "metadata": {},
   "outputs": [],
   "source": [
    "# filter columns\n",
    "filter_cols = [\"userID\", \"asin\", \"overall\"]\n",
    "\n",
    "train = amz[filter_cols]\n",
    "test = test_cf[filter_cols]\n"
   ]
  },
  {
   "cell_type": "code",
   "execution_count": 6,
   "id": "14a65305",
   "metadata": {},
   "outputs": [
    {
     "name": "stdout",
     "output_type": "stream",
     "text": [
      "(161753, 3)\n",
      "(76043, 3)\n"
     ]
    }
   ],
   "source": [
    "print(train.shape)\n",
    "print(test.shape)"
   ]
  },
  {
   "cell_type": "code",
   "execution_count": 7,
   "id": "e9ba0516",
   "metadata": {},
   "outputs": [],
   "source": [
    "from surprise import Dataset\n",
    "from surprise import Reader\n",
    "\n",
    "# set up reader with min rating and max rating as arguments\n",
    "reader = Reader(rating_scale=(1, 5))\n",
    "\n",
    "# surprise training and test set\n",
    "df_train = Dataset.load_from_df(train, reader).build_full_trainset()\n",
    "df_test = list(test.itertuples(index=False, name=None))"
   ]
  },
  {
   "cell_type": "markdown",
   "id": "e3733a99",
   "metadata": {},
   "source": [
    "# User Based"
   ]
  },
  {
   "cell_type": "markdown",
   "id": "a4aca863",
   "metadata": {},
   "source": [
    "#### User-Based Collaborative Filtering is a technique used to predict the items that a user might like on the basis of ratings \n",
    "#### given to that item by the other users who have similar taste with that of the target user. \n",
    "#### I chose the parameter options of k=20, min_k=5, name:'cosine'"
   ]
  },
  {
   "cell_type": "code",
   "execution_count": 57,
   "id": "0118f953",
   "metadata": {},
   "outputs": [
    {
     "name": "stdout",
     "output_type": "stream",
     "text": [
      "Computing the cosine similarity matrix...\n",
      "Done computing similarity matrix.\n"
     ]
    },
    {
     "data": {
      "text/plain": [
       "<surprise.prediction_algorithms.knns.KNNBasic at 0x23fe17109d0>"
      ]
     },
     "execution_count": 57,
     "metadata": {},
     "output_type": "execute_result"
    }
   ],
   "source": [
    "from surprise import KNNBasic\n",
    "\n",
    "# set option to cosine similarity and user-based collaborative filtering\n",
    "options = {'name':'cosine', 'user_based':True}\n",
    "\n",
    "# select 20 most similar users (min 5)\n",
    "ub = KNNBasic(k=20, min_k=5, sim_options=options, random_state=42)\n",
    "\n",
    "# fit on training set\n",
    "ub.fit(df_train)"
   ]
  },
  {
   "cell_type": "code",
   "execution_count": 58,
   "id": "b522d134",
   "metadata": {},
   "outputs": [
    {
     "name": "stdout",
     "output_type": "stream",
     "text": [
      "RMSE: 4.3638\n",
      "Impossible: 0.2701\n"
     ]
    }
   ],
   "source": [
    "from surprise import accuracy\n",
    "\n",
    "ub_pred = ub.test(df_test)\n",
    "accuracy.rmse(ub_pred)\n",
    "\n",
    "# percentage impossible predictions\n",
    "perc_impossible = np.sum([1 for i in ub_pred if i.details[\"was_impossible\"]]) / len(ub_pred)\n",
    "print(f\"Impossible: {perc_impossible:.4f}\")"
   ]
  },
  {
   "cell_type": "markdown",
   "id": "7f47fb65",
   "metadata": {},
   "source": [
    "# Item Based"
   ]
  },
  {
   "cell_type": "markdown",
   "id": "2a4249b4",
   "metadata": {},
   "source": [
    "#### Item-based collaborative filtering is a type of recommendation system that is based on the similarity between items calculated \n",
    "#### using the rating users have given to items.\n",
    "#### I chose the parameter options of k=10, min_k=2, name:'pearson'"
   ]
  },
  {
   "cell_type": "code",
   "execution_count": 59,
   "id": "c427cf6c",
   "metadata": {},
   "outputs": [
    {
     "name": "stdout",
     "output_type": "stream",
     "text": [
      "Computing the pearson similarity matrix...\n",
      "Done computing similarity matrix.\n"
     ]
    },
    {
     "data": {
      "text/plain": [
       "<surprise.prediction_algorithms.knns.KNNBasic at 0x23fe12a4f40>"
      ]
     },
     "execution_count": 59,
     "metadata": {},
     "output_type": "execute_result"
    }
   ],
   "source": [
    "# set option to cosine similarity and item-based collaborative filtering\n",
    "options = {'name':'pearson', 'user_based':False}\n",
    "\n",
    "# select 20 most similar items (min 5)\n",
    "ib = KNNBasic(k=10, min_k=2, sim_options=options, random_state=42)\n",
    "\n",
    "# fit on training set\n",
    "ib.fit(df_train)"
   ]
  },
  {
   "cell_type": "code",
   "execution_count": 60,
   "id": "15db7ec7",
   "metadata": {},
   "outputs": [
    {
     "name": "stdout",
     "output_type": "stream",
     "text": [
      "RMSE: 4.3611\n",
      "Impossible: 0.6492\n"
     ]
    }
   ],
   "source": [
    "ib_pred = ib.test(df_test)\n",
    "accuracy.rmse(ib_pred)\n",
    "\n",
    "# percentage impossible predictions\n",
    "perc_impossible = np.sum([1 for i in ib_pred if i.details[\"was_impossible\"]]) / len(ib_pred)\n",
    "print(f\"Impossible: {perc_impossible:.4f}\")"
   ]
  },
  {
   "cell_type": "markdown",
   "id": "300607df",
   "metadata": {},
   "source": [
    "# ALS"
   ]
  },
  {
   "cell_type": "markdown",
   "id": "752bfb11",
   "metadata": {},
   "source": [
    "#### ALS recommender is a matrix factorization algorithm that uses Alternating Least Squares with Weighted-Lamda-Regularization \n",
    "#### (ALS-WR). It factors the user to item matrix A into the user-to-feature matrix U and the item-to-feature matrix M : \n",
    "#### It runs the ALS algorithm in a parallel fashion.\n",
    "#### I chose the parameter \"method\": \"als\", \"n_epochs\": 100"
   ]
  },
  {
   "cell_type": "code",
   "execution_count": 61,
   "id": "6c6c27ee",
   "metadata": {},
   "outputs": [
    {
     "name": "stdout",
     "output_type": "stream",
     "text": [
      "Estimating biases using als...\n",
      "RMSE: 4.3460\n",
      "Impossible: 0.0000\n"
     ]
    }
   ],
   "source": [
    "from surprise import BaselineOnly\n",
    "\n",
    "# Select alternating least squares (ALS) and 30 epochs\n",
    "options = {\"method\": \"als\", \"n_epochs\": 100}\n",
    "als = BaselineOnly(bsl_options=options)\n",
    "\n",
    "# fit on training set\n",
    "als.fit(df_train)\n",
    "\n",
    "als_pred = als.test(df_test)\n",
    "accuracy.rmse(als_pred)\n",
    "\n",
    "# percentage impossible predictions\n",
    "perc_impossible = np.sum([1 for i in als_pred if i.details[\"was_impossible\"]]) / len(als_pred)\n",
    "print(f\"Impossible: {perc_impossible:.4f}\")"
   ]
  },
  {
   "cell_type": "markdown",
   "id": "8d44f343",
   "metadata": {},
   "source": [
    "# Co_Clustering"
   ]
  },
  {
   "cell_type": "markdown",
   "id": "24b453e1",
   "metadata": {},
   "source": [
    "#### Co-Clustering is a different type of algorithmic approach that exploits groups of similar users and similar items \n",
    "#### within calculated clusters.\n",
    "\n",
    "#### I used cross validation and found good parameters to be {n_cltr_u=10, n_cltr_i=10, n_epochs=50}"
   ]
  },
  {
   "cell_type": "code",
   "execution_count": null,
   "id": "176eec74",
   "metadata": {},
   "outputs": [],
   "source": [
    "# cross validation to find the best parameters \n",
    "\n",
    "from surprise.model_selection import GridSearchCV\n",
    "\n",
    "df_auto = Dataset.load_from_df(train, reader)\n",
    "\n",
    "param_grid = {'n_cltr_u': [10, 20, 50],\n",
    "              'n_cltr_i': [10, 20, 50],\n",
    "             'n_epochs': [50, 60,100]\n",
    "             }\n",
    "\n",
    "gs = GridSearchCV(CoClustering, param_grid, measures=['rmse', 'mae'], cv=3)\n",
    "\n",
    "gs.fit(df_auto)\n",
    "\n",
    "# combination of parameters with the best RMSE\n",
    "print(gs.best_params['rmse'])\n",
    "print(gs.best_score['rmse'])"
   ]
  },
  {
   "cell_type": "code",
   "execution_count": 62,
   "id": "1f8a7547",
   "metadata": {},
   "outputs": [
    {
     "data": {
      "text/plain": [
       "<surprise.prediction_algorithms.co_clustering.CoClustering at 0x23fe12b4d90>"
      ]
     },
     "execution_count": 62,
     "metadata": {},
     "output_type": "execute_result"
    }
   ],
   "source": [
    "from surprise import CoClustering\n",
    "\n",
    "clust = CoClustering(n_cltr_u=10, n_cltr_i=10, n_epochs=50, random_state=12)\n",
    "\n",
    "clust.fit(df_train)"
   ]
  },
  {
   "cell_type": "code",
   "execution_count": 63,
   "id": "62d36814",
   "metadata": {},
   "outputs": [
    {
     "name": "stdout",
     "output_type": "stream",
     "text": [
      "RMSE: 4.3733\n",
      "Impossible: 0.0000\n"
     ]
    }
   ],
   "source": [
    "clust_pred = clust.test(df_test)\n",
    "accuracy.rmse(clust_pred)\n",
    "\n",
    "# percentage impossible predictions\n",
    "perc_impossible = np.sum([1 for i in clust_pred if i.details[\"was_impossible\"]]) / len(clust_pred)\n",
    "print(f\"Impossible: {perc_impossible:.4f}\")"
   ]
  },
  {
   "cell_type": "markdown",
   "id": "b93a8e59",
   "metadata": {},
   "source": [
    "# SVD"
   ]
  },
  {
   "cell_type": "markdown",
   "id": "6037c593",
   "metadata": {},
   "source": [
    "#### Singular value decomposition shrinks the space dimension from N-dimension to K-dimension (where K<N) and reduces the number of features. \n",
    "#### SVD constructs a matrix with the row of users and columns of items and the elements are given by the users’ ratings. \n",
    "#### SVD decomposes a matrix into three other matrices and extracts the factors from the factorization of a high-level \n",
    "#### (user-item-rating) matrix.\n",
    "\n",
    "#### I used cross validation and found good parameters to be {'n_factors': 5}"
   ]
  },
  {
   "cell_type": "code",
   "execution_count": 8,
   "id": "abc641eb",
   "metadata": {},
   "outputs": [
    {
     "name": "stdout",
     "output_type": "stream",
     "text": [
      "{'n_factors': 5}\n",
      "1.080627363555121\n"
     ]
    }
   ],
   "source": [
    "# cross validation to find the best parameters \n",
    "\n",
    "from surprise.model_selection import GridSearchCV\n",
    "\n",
    "df_auto = Dataset.load_from_df(train, reader)\n",
    "\n",
    "param_grid = {'n_factors': [5,20,50,75,100,500]}\n",
    "\n",
    "gs = GridSearchCV(SVD, param_grid, measures=['rmse', 'mae'], cv=3)\n",
    "\n",
    "gs.fit(df_auto)\n",
    "\n",
    "# combination of parameters with the best RMSE\n",
    "print(gs.best_params['rmse'])\n",
    "print(gs.best_score['rmse'])"
   ]
  },
  {
   "cell_type": "code",
   "execution_count": 11,
   "id": "571682cb",
   "metadata": {},
   "outputs": [
    {
     "name": "stdout",
     "output_type": "stream",
     "text": [
      "RMSE: 4.3505\n",
      "Impossible: 0.0000\n"
     ]
    }
   ],
   "source": [
    "from surprise import accuracy\n",
    "\n",
    "algo = gs.best_estimator['rmse']\n",
    "algo.fit(df_train)\n",
    "\n",
    "pred = algo.test(df_test)\n",
    "accuracy.rmse(pred)\n",
    "\n",
    "# percentage impossible predictions\n",
    "perc_impossible = np.sum([1 for i in pred if i.details[\"was_impossible\"]]) / len(pred)\n",
    "print(f\"Impossible: {perc_impossible:.4f}\")"
   ]
  },
  {
   "cell_type": "code",
   "execution_count": null,
   "id": "ab2f6271",
   "metadata": {},
   "outputs": [],
   "source": [
    "# export to Excel"
   ]
  },
  {
   "cell_type": "code",
   "execution_count": 38,
   "id": "2f882c0e",
   "metadata": {},
   "outputs": [],
   "source": [
    "preddf = pd.DataFrame(pred)"
   ]
  },
  {
   "cell_type": "code",
   "execution_count": 39,
   "id": "5642a533",
   "metadata": {},
   "outputs": [],
   "source": [
    "preddf = preddf[['uid','iid','est']]"
   ]
  },
  {
   "cell_type": "code",
   "execution_count": 40,
   "id": "aa92e87e",
   "metadata": {},
   "outputs": [
    {
     "data": {
      "text/html": [
       "<div>\n",
       "<style scoped>\n",
       "    .dataframe tbody tr th:only-of-type {\n",
       "        vertical-align: middle;\n",
       "    }\n",
       "\n",
       "    .dataframe tbody tr th {\n",
       "        vertical-align: top;\n",
       "    }\n",
       "\n",
       "    .dataframe thead th {\n",
       "        text-align: right;\n",
       "    }\n",
       "</style>\n",
       "<table border=\"1\" class=\"dataframe\">\n",
       "  <thead>\n",
       "    <tr style=\"text-align: right;\">\n",
       "      <th></th>\n",
       "      <th>uid</th>\n",
       "      <th>iid</th>\n",
       "      <th>est</th>\n",
       "    </tr>\n",
       "  </thead>\n",
       "  <tbody>\n",
       "    <tr>\n",
       "      <th>0</th>\n",
       "      <td>21069</td>\n",
       "      <td>B00BFK2B24</td>\n",
       "      <td>3.342481</td>\n",
       "    </tr>\n",
       "    <tr>\n",
       "      <th>1</th>\n",
       "      <td>3506</td>\n",
       "      <td>B00ZK0Y7R2</td>\n",
       "      <td>3.601445</td>\n",
       "    </tr>\n",
       "    <tr>\n",
       "      <th>2</th>\n",
       "      <td>21907</td>\n",
       "      <td>B0002AQPA2</td>\n",
       "      <td>4.067562</td>\n",
       "    </tr>\n",
       "    <tr>\n",
       "      <th>3</th>\n",
       "      <td>14092</td>\n",
       "      <td>B0002DHXX2</td>\n",
       "      <td>4.378355</td>\n",
       "    </tr>\n",
       "    <tr>\n",
       "      <th>4</th>\n",
       "      <td>3085</td>\n",
       "      <td>B0006VB3SQ</td>\n",
       "      <td>4.298012</td>\n",
       "    </tr>\n",
       "    <tr>\n",
       "      <th>...</th>\n",
       "      <td>...</td>\n",
       "      <td>...</td>\n",
       "      <td>...</td>\n",
       "    </tr>\n",
       "    <tr>\n",
       "      <th>76038</th>\n",
       "      <td>9343</td>\n",
       "      <td>B004GFN2ZA</td>\n",
       "      <td>4.264787</td>\n",
       "    </tr>\n",
       "    <tr>\n",
       "      <th>76039</th>\n",
       "      <td>17932</td>\n",
       "      <td>B000JZOQO2</td>\n",
       "      <td>4.370520</td>\n",
       "    </tr>\n",
       "    <tr>\n",
       "      <th>76040</th>\n",
       "      <td>14272</td>\n",
       "      <td>B005440HLO</td>\n",
       "      <td>3.866691</td>\n",
       "    </tr>\n",
       "    <tr>\n",
       "      <th>76041</th>\n",
       "      <td>11151</td>\n",
       "      <td>B0002VAZSY</td>\n",
       "      <td>4.178537</td>\n",
       "    </tr>\n",
       "    <tr>\n",
       "      <th>76042</th>\n",
       "      <td>12400</td>\n",
       "      <td>B002JM0DOA</td>\n",
       "      <td>3.844262</td>\n",
       "    </tr>\n",
       "  </tbody>\n",
       "</table>\n",
       "<p>76043 rows × 3 columns</p>\n",
       "</div>"
      ],
      "text/plain": [
       "         uid         iid       est\n",
       "0      21069  B00BFK2B24  3.342481\n",
       "1       3506  B00ZK0Y7R2  3.601445\n",
       "2      21907  B0002AQPA2  4.067562\n",
       "3      14092  B0002DHXX2  4.378355\n",
       "4       3085  B0006VB3SQ  4.298012\n",
       "...      ...         ...       ...\n",
       "76038   9343  B004GFN2ZA  4.264787\n",
       "76039  17932  B000JZOQO2  4.370520\n",
       "76040  14272  B005440HLO  3.866691\n",
       "76041  11151  B0002VAZSY  4.178537\n",
       "76042  12400  B002JM0DOA  3.844262\n",
       "\n",
       "[76043 rows x 3 columns]"
      ]
     },
     "execution_count": 40,
     "metadata": {},
     "output_type": "execute_result"
    }
   ],
   "source": [
    "preddf"
   ]
  },
  {
   "cell_type": "code",
   "execution_count": 41,
   "id": "1b583a3a",
   "metadata": {},
   "outputs": [],
   "source": [
    "preddf[\"ID\"] = preddf['uid'].astype(str) + preddf['iid'].astype(str) "
   ]
  },
  {
   "cell_type": "code",
   "execution_count": 42,
   "id": "1185f6b9",
   "metadata": {},
   "outputs": [
    {
     "data": {
      "text/html": [
       "<div>\n",
       "<style scoped>\n",
       "    .dataframe tbody tr th:only-of-type {\n",
       "        vertical-align: middle;\n",
       "    }\n",
       "\n",
       "    .dataframe tbody tr th {\n",
       "        vertical-align: top;\n",
       "    }\n",
       "\n",
       "    .dataframe thead th {\n",
       "        text-align: right;\n",
       "    }\n",
       "</style>\n",
       "<table border=\"1\" class=\"dataframe\">\n",
       "  <thead>\n",
       "    <tr style=\"text-align: right;\">\n",
       "      <th></th>\n",
       "      <th>uid</th>\n",
       "      <th>iid</th>\n",
       "      <th>est</th>\n",
       "      <th>ID</th>\n",
       "    </tr>\n",
       "  </thead>\n",
       "  <tbody>\n",
       "    <tr>\n",
       "      <th>0</th>\n",
       "      <td>21069</td>\n",
       "      <td>B00BFK2B24</td>\n",
       "      <td>3.342481</td>\n",
       "      <td>21069B00BFK2B24</td>\n",
       "    </tr>\n",
       "    <tr>\n",
       "      <th>1</th>\n",
       "      <td>3506</td>\n",
       "      <td>B00ZK0Y7R2</td>\n",
       "      <td>3.601445</td>\n",
       "      <td>3506B00ZK0Y7R2</td>\n",
       "    </tr>\n",
       "    <tr>\n",
       "      <th>2</th>\n",
       "      <td>21907</td>\n",
       "      <td>B0002AQPA2</td>\n",
       "      <td>4.067562</td>\n",
       "      <td>21907B0002AQPA2</td>\n",
       "    </tr>\n",
       "    <tr>\n",
       "      <th>3</th>\n",
       "      <td>14092</td>\n",
       "      <td>B0002DHXX2</td>\n",
       "      <td>4.378355</td>\n",
       "      <td>14092B0002DHXX2</td>\n",
       "    </tr>\n",
       "    <tr>\n",
       "      <th>4</th>\n",
       "      <td>3085</td>\n",
       "      <td>B0006VB3SQ</td>\n",
       "      <td>4.298012</td>\n",
       "      <td>3085B0006VB3SQ</td>\n",
       "    </tr>\n",
       "    <tr>\n",
       "      <th>...</th>\n",
       "      <td>...</td>\n",
       "      <td>...</td>\n",
       "      <td>...</td>\n",
       "      <td>...</td>\n",
       "    </tr>\n",
       "    <tr>\n",
       "      <th>76038</th>\n",
       "      <td>9343</td>\n",
       "      <td>B004GFN2ZA</td>\n",
       "      <td>4.264787</td>\n",
       "      <td>9343B004GFN2ZA</td>\n",
       "    </tr>\n",
       "    <tr>\n",
       "      <th>76039</th>\n",
       "      <td>17932</td>\n",
       "      <td>B000JZOQO2</td>\n",
       "      <td>4.370520</td>\n",
       "      <td>17932B000JZOQO2</td>\n",
       "    </tr>\n",
       "    <tr>\n",
       "      <th>76040</th>\n",
       "      <td>14272</td>\n",
       "      <td>B005440HLO</td>\n",
       "      <td>3.866691</td>\n",
       "      <td>14272B005440HLO</td>\n",
       "    </tr>\n",
       "    <tr>\n",
       "      <th>76041</th>\n",
       "      <td>11151</td>\n",
       "      <td>B0002VAZSY</td>\n",
       "      <td>4.178537</td>\n",
       "      <td>11151B0002VAZSY</td>\n",
       "    </tr>\n",
       "    <tr>\n",
       "      <th>76042</th>\n",
       "      <td>12400</td>\n",
       "      <td>B002JM0DOA</td>\n",
       "      <td>3.844262</td>\n",
       "      <td>12400B002JM0DOA</td>\n",
       "    </tr>\n",
       "  </tbody>\n",
       "</table>\n",
       "<p>76043 rows × 4 columns</p>\n",
       "</div>"
      ],
      "text/plain": [
       "         uid         iid       est               ID\n",
       "0      21069  B00BFK2B24  3.342481  21069B00BFK2B24\n",
       "1       3506  B00ZK0Y7R2  3.601445   3506B00ZK0Y7R2\n",
       "2      21907  B0002AQPA2  4.067562  21907B0002AQPA2\n",
       "3      14092  B0002DHXX2  4.378355  14092B0002DHXX2\n",
       "4       3085  B0006VB3SQ  4.298012   3085B0006VB3SQ\n",
       "...      ...         ...       ...              ...\n",
       "76038   9343  B004GFN2ZA  4.264787   9343B004GFN2ZA\n",
       "76039  17932  B000JZOQO2  4.370520  17932B000JZOQO2\n",
       "76040  14272  B005440HLO  3.866691  14272B005440HLO\n",
       "76041  11151  B0002VAZSY  4.178537  11151B0002VAZSY\n",
       "76042  12400  B002JM0DOA  3.844262  12400B002JM0DOA\n",
       "\n",
       "[76043 rows x 4 columns]"
      ]
     },
     "execution_count": 42,
     "metadata": {},
     "output_type": "execute_result"
    }
   ],
   "source": [
    "preddf \n"
   ]
  },
  {
   "cell_type": "code",
   "execution_count": 43,
   "id": "8456502f",
   "metadata": {},
   "outputs": [],
   "source": [
    "preddf['overall'] = preddf['est']"
   ]
  },
  {
   "cell_type": "code",
   "execution_count": 44,
   "id": "0f287e55",
   "metadata": {},
   "outputs": [
    {
     "data": {
      "text/html": [
       "<div>\n",
       "<style scoped>\n",
       "    .dataframe tbody tr th:only-of-type {\n",
       "        vertical-align: middle;\n",
       "    }\n",
       "\n",
       "    .dataframe tbody tr th {\n",
       "        vertical-align: top;\n",
       "    }\n",
       "\n",
       "    .dataframe thead th {\n",
       "        text-align: right;\n",
       "    }\n",
       "</style>\n",
       "<table border=\"1\" class=\"dataframe\">\n",
       "  <thead>\n",
       "    <tr style=\"text-align: right;\">\n",
       "      <th></th>\n",
       "      <th>uid</th>\n",
       "      <th>iid</th>\n",
       "      <th>est</th>\n",
       "      <th>ID</th>\n",
       "      <th>overall</th>\n",
       "    </tr>\n",
       "  </thead>\n",
       "  <tbody>\n",
       "    <tr>\n",
       "      <th>0</th>\n",
       "      <td>21069</td>\n",
       "      <td>B00BFK2B24</td>\n",
       "      <td>3.342481</td>\n",
       "      <td>21069B00BFK2B24</td>\n",
       "      <td>3.342481</td>\n",
       "    </tr>\n",
       "    <tr>\n",
       "      <th>1</th>\n",
       "      <td>3506</td>\n",
       "      <td>B00ZK0Y7R2</td>\n",
       "      <td>3.601445</td>\n",
       "      <td>3506B00ZK0Y7R2</td>\n",
       "      <td>3.601445</td>\n",
       "    </tr>\n",
       "    <tr>\n",
       "      <th>2</th>\n",
       "      <td>21907</td>\n",
       "      <td>B0002AQPA2</td>\n",
       "      <td>4.067562</td>\n",
       "      <td>21907B0002AQPA2</td>\n",
       "      <td>4.067562</td>\n",
       "    </tr>\n",
       "    <tr>\n",
       "      <th>3</th>\n",
       "      <td>14092</td>\n",
       "      <td>B0002DHXX2</td>\n",
       "      <td>4.378355</td>\n",
       "      <td>14092B0002DHXX2</td>\n",
       "      <td>4.378355</td>\n",
       "    </tr>\n",
       "    <tr>\n",
       "      <th>4</th>\n",
       "      <td>3085</td>\n",
       "      <td>B0006VB3SQ</td>\n",
       "      <td>4.298012</td>\n",
       "      <td>3085B0006VB3SQ</td>\n",
       "      <td>4.298012</td>\n",
       "    </tr>\n",
       "    <tr>\n",
       "      <th>...</th>\n",
       "      <td>...</td>\n",
       "      <td>...</td>\n",
       "      <td>...</td>\n",
       "      <td>...</td>\n",
       "      <td>...</td>\n",
       "    </tr>\n",
       "    <tr>\n",
       "      <th>76038</th>\n",
       "      <td>9343</td>\n",
       "      <td>B004GFN2ZA</td>\n",
       "      <td>4.264787</td>\n",
       "      <td>9343B004GFN2ZA</td>\n",
       "      <td>4.264787</td>\n",
       "    </tr>\n",
       "    <tr>\n",
       "      <th>76039</th>\n",
       "      <td>17932</td>\n",
       "      <td>B000JZOQO2</td>\n",
       "      <td>4.370520</td>\n",
       "      <td>17932B000JZOQO2</td>\n",
       "      <td>4.370520</td>\n",
       "    </tr>\n",
       "    <tr>\n",
       "      <th>76040</th>\n",
       "      <td>14272</td>\n",
       "      <td>B005440HLO</td>\n",
       "      <td>3.866691</td>\n",
       "      <td>14272B005440HLO</td>\n",
       "      <td>3.866691</td>\n",
       "    </tr>\n",
       "    <tr>\n",
       "      <th>76041</th>\n",
       "      <td>11151</td>\n",
       "      <td>B0002VAZSY</td>\n",
       "      <td>4.178537</td>\n",
       "      <td>11151B0002VAZSY</td>\n",
       "      <td>4.178537</td>\n",
       "    </tr>\n",
       "    <tr>\n",
       "      <th>76042</th>\n",
       "      <td>12400</td>\n",
       "      <td>B002JM0DOA</td>\n",
       "      <td>3.844262</td>\n",
       "      <td>12400B002JM0DOA</td>\n",
       "      <td>3.844262</td>\n",
       "    </tr>\n",
       "  </tbody>\n",
       "</table>\n",
       "<p>76043 rows × 5 columns</p>\n",
       "</div>"
      ],
      "text/plain": [
       "         uid         iid       est               ID   overall\n",
       "0      21069  B00BFK2B24  3.342481  21069B00BFK2B24  3.342481\n",
       "1       3506  B00ZK0Y7R2  3.601445   3506B00ZK0Y7R2  3.601445\n",
       "2      21907  B0002AQPA2  4.067562  21907B0002AQPA2  4.067562\n",
       "3      14092  B0002DHXX2  4.378355  14092B0002DHXX2  4.378355\n",
       "4       3085  B0006VB3SQ  4.298012   3085B0006VB3SQ  4.298012\n",
       "...      ...         ...       ...              ...       ...\n",
       "76038   9343  B004GFN2ZA  4.264787   9343B004GFN2ZA  4.264787\n",
       "76039  17932  B000JZOQO2  4.370520  17932B000JZOQO2  4.370520\n",
       "76040  14272  B005440HLO  3.866691  14272B005440HLO  3.866691\n",
       "76041  11151  B0002VAZSY  4.178537  11151B0002VAZSY  4.178537\n",
       "76042  12400  B002JM0DOA  3.844262  12400B002JM0DOA  3.844262\n",
       "\n",
       "[76043 rows x 5 columns]"
      ]
     },
     "execution_count": 44,
     "metadata": {},
     "output_type": "execute_result"
    }
   ],
   "source": [
    "preddf"
   ]
  },
  {
   "cell_type": "code",
   "execution_count": 46,
   "id": "0095f4e0",
   "metadata": {},
   "outputs": [],
   "source": [
    "preddf = preddf[['ID','overall']]"
   ]
  },
  {
   "cell_type": "code",
   "execution_count": 47,
   "id": "c7fa879a",
   "metadata": {},
   "outputs": [
    {
     "data": {
      "text/html": [
       "<div>\n",
       "<style scoped>\n",
       "    .dataframe tbody tr th:only-of-type {\n",
       "        vertical-align: middle;\n",
       "    }\n",
       "\n",
       "    .dataframe tbody tr th {\n",
       "        vertical-align: top;\n",
       "    }\n",
       "\n",
       "    .dataframe thead th {\n",
       "        text-align: right;\n",
       "    }\n",
       "</style>\n",
       "<table border=\"1\" class=\"dataframe\">\n",
       "  <thead>\n",
       "    <tr style=\"text-align: right;\">\n",
       "      <th></th>\n",
       "      <th>ID</th>\n",
       "      <th>overall</th>\n",
       "    </tr>\n",
       "  </thead>\n",
       "  <tbody>\n",
       "    <tr>\n",
       "      <th>0</th>\n",
       "      <td>21069B00BFK2B24</td>\n",
       "      <td>3.342481</td>\n",
       "    </tr>\n",
       "    <tr>\n",
       "      <th>1</th>\n",
       "      <td>3506B00ZK0Y7R2</td>\n",
       "      <td>3.601445</td>\n",
       "    </tr>\n",
       "    <tr>\n",
       "      <th>2</th>\n",
       "      <td>21907B0002AQPA2</td>\n",
       "      <td>4.067562</td>\n",
       "    </tr>\n",
       "    <tr>\n",
       "      <th>3</th>\n",
       "      <td>14092B0002DHXX2</td>\n",
       "      <td>4.378355</td>\n",
       "    </tr>\n",
       "    <tr>\n",
       "      <th>4</th>\n",
       "      <td>3085B0006VB3SQ</td>\n",
       "      <td>4.298012</td>\n",
       "    </tr>\n",
       "    <tr>\n",
       "      <th>...</th>\n",
       "      <td>...</td>\n",
       "      <td>...</td>\n",
       "    </tr>\n",
       "    <tr>\n",
       "      <th>76038</th>\n",
       "      <td>9343B004GFN2ZA</td>\n",
       "      <td>4.264787</td>\n",
       "    </tr>\n",
       "    <tr>\n",
       "      <th>76039</th>\n",
       "      <td>17932B000JZOQO2</td>\n",
       "      <td>4.370520</td>\n",
       "    </tr>\n",
       "    <tr>\n",
       "      <th>76040</th>\n",
       "      <td>14272B005440HLO</td>\n",
       "      <td>3.866691</td>\n",
       "    </tr>\n",
       "    <tr>\n",
       "      <th>76041</th>\n",
       "      <td>11151B0002VAZSY</td>\n",
       "      <td>4.178537</td>\n",
       "    </tr>\n",
       "    <tr>\n",
       "      <th>76042</th>\n",
       "      <td>12400B002JM0DOA</td>\n",
       "      <td>3.844262</td>\n",
       "    </tr>\n",
       "  </tbody>\n",
       "</table>\n",
       "<p>76043 rows × 2 columns</p>\n",
       "</div>"
      ],
      "text/plain": [
       "                    ID   overall\n",
       "0      21069B00BFK2B24  3.342481\n",
       "1       3506B00ZK0Y7R2  3.601445\n",
       "2      21907B0002AQPA2  4.067562\n",
       "3      14092B0002DHXX2  4.378355\n",
       "4       3085B0006VB3SQ  4.298012\n",
       "...                ...       ...\n",
       "76038   9343B004GFN2ZA  4.264787\n",
       "76039  17932B000JZOQO2  4.370520\n",
       "76040  14272B005440HLO  3.866691\n",
       "76041  11151B0002VAZSY  4.178537\n",
       "76042  12400B002JM0DOA  3.844262\n",
       "\n",
       "[76043 rows x 2 columns]"
      ]
     },
     "execution_count": 47,
     "metadata": {},
     "output_type": "execute_result"
    }
   ],
   "source": [
    "preddf"
   ]
  },
  {
   "cell_type": "code",
   "execution_count": 48,
   "id": "88552976",
   "metadata": {},
   "outputs": [],
   "source": [
    "preddf.to_csv(r'C:\\Users\\ffan1\\OneDrive - IESEG (1)\\Recommendation Systems\\Individual Project\\Exports\\1.csv',index=False)"
   ]
  },
  {
   "cell_type": "markdown",
   "id": "6dc17d66",
   "metadata": {},
   "source": [
    "# Hybrid Model 1: Hybrid_svd_coclustering"
   ]
  },
  {
   "cell_type": "code",
   "execution_count": 65,
   "id": "b3a532ec",
   "metadata": {},
   "outputs": [],
   "source": [
    "# Combine predictions (mean)\n",
    "\n",
    "# extract predictions SVD and Co_Clustering\n",
    "df_pred, df_pred_clust = pd.DataFrame(pred), pd.DataFrame(clust_pred)"
   ]
  },
  {
   "cell_type": "code",
   "execution_count": 67,
   "id": "f4b9c8db",
   "metadata": {},
   "outputs": [],
   "source": [
    "df_hybrid = df_pred.copy()"
   ]
  },
  {
   "cell_type": "code",
   "execution_count": 68,
   "id": "926c62db",
   "metadata": {},
   "outputs": [
    {
     "data": {
      "text/html": [
       "<div>\n",
       "<style scoped>\n",
       "    .dataframe tbody tr th:only-of-type {\n",
       "        vertical-align: middle;\n",
       "    }\n",
       "\n",
       "    .dataframe tbody tr th {\n",
       "        vertical-align: top;\n",
       "    }\n",
       "\n",
       "    .dataframe thead th {\n",
       "        text-align: right;\n",
       "    }\n",
       "</style>\n",
       "<table border=\"1\" class=\"dataframe\">\n",
       "  <thead>\n",
       "    <tr style=\"text-align: right;\">\n",
       "      <th></th>\n",
       "      <th>uid</th>\n",
       "      <th>iid</th>\n",
       "      <th>r_ui</th>\n",
       "      <th>est</th>\n",
       "      <th>details</th>\n",
       "    </tr>\n",
       "  </thead>\n",
       "  <tbody>\n",
       "    <tr>\n",
       "      <th>0</th>\n",
       "      <td>21069</td>\n",
       "      <td>B00BFK2B24</td>\n",
       "      <td>0.0</td>\n",
       "      <td>3.176525</td>\n",
       "      <td>{'was_impossible': False}</td>\n",
       "    </tr>\n",
       "    <tr>\n",
       "      <th>1</th>\n",
       "      <td>3506</td>\n",
       "      <td>B00ZK0Y7R2</td>\n",
       "      <td>0.0</td>\n",
       "      <td>3.441187</td>\n",
       "      <td>{'was_impossible': False}</td>\n",
       "    </tr>\n",
       "    <tr>\n",
       "      <th>2</th>\n",
       "      <td>21907</td>\n",
       "      <td>B0002AQPA2</td>\n",
       "      <td>0.0</td>\n",
       "      <td>4.127640</td>\n",
       "      <td>{'was_impossible': False}</td>\n",
       "    </tr>\n",
       "    <tr>\n",
       "      <th>3</th>\n",
       "      <td>14092</td>\n",
       "      <td>B0002DHXX2</td>\n",
       "      <td>0.0</td>\n",
       "      <td>4.550528</td>\n",
       "      <td>{'was_impossible': False}</td>\n",
       "    </tr>\n",
       "    <tr>\n",
       "      <th>4</th>\n",
       "      <td>3085</td>\n",
       "      <td>B0006VB3SQ</td>\n",
       "      <td>0.0</td>\n",
       "      <td>4.509390</td>\n",
       "      <td>{'was_impossible': False}</td>\n",
       "    </tr>\n",
       "  </tbody>\n",
       "</table>\n",
       "</div>"
      ],
      "text/plain": [
       "     uid         iid  r_ui       est                    details\n",
       "0  21069  B00BFK2B24   0.0  3.176525  {'was_impossible': False}\n",
       "1   3506  B00ZK0Y7R2   0.0  3.441187  {'was_impossible': False}\n",
       "2  21907  B0002AQPA2   0.0  4.127640  {'was_impossible': False}\n",
       "3  14092  B0002DHXX2   0.0  4.550528  {'was_impossible': False}\n",
       "4   3085  B0006VB3SQ   0.0  4.509390  {'was_impossible': False}"
      ]
     },
     "execution_count": 68,
     "metadata": {},
     "output_type": "execute_result"
    }
   ],
   "source": [
    "df_hybrid['est'] = (np.array(df_pred['est']) + np.array(df_pred_clust['est'])) / 2\n",
    "\n",
    "df_hybrid.head()"
   ]
  },
  {
   "cell_type": "code",
   "execution_count": 69,
   "id": "a79cf68f",
   "metadata": {},
   "outputs": [
    {
     "name": "stderr",
     "output_type": "stream",
     "text": [
      "C:\\Users\\ffan1\\OneDrive - IESEG (1)\\Recommendation Systems\\Individual Project\\IESEGRecSys\\eval.py:146: RuntimeWarning: invalid value encountered in long_scalars\n",
      "  recall    = TP / (TP+FN)\n"
     ]
    },
    {
     "data": {
      "text/html": [
       "<div>\n",
       "<style scoped>\n",
       "    .dataframe tbody tr th:only-of-type {\n",
       "        vertical-align: middle;\n",
       "    }\n",
       "\n",
       "    .dataframe tbody tr th {\n",
       "        vertical-align: top;\n",
       "    }\n",
       "\n",
       "    .dataframe thead th {\n",
       "        text-align: right;\n",
       "    }\n",
       "</style>\n",
       "<table border=\"1\" class=\"dataframe\">\n",
       "  <thead>\n",
       "    <tr style=\"text-align: right;\">\n",
       "      <th></th>\n",
       "      <th>Hybrid_SVD_CoClustering</th>\n",
       "    </tr>\n",
       "  </thead>\n",
       "  <tbody>\n",
       "    <tr>\n",
       "      <th>RMSE</th>\n",
       "      <td>4.349262</td>\n",
       "    </tr>\n",
       "    <tr>\n",
       "      <th>MAE</th>\n",
       "      <td>4.307986</td>\n",
       "    </tr>\n",
       "    <tr>\n",
       "      <th>Recall</th>\n",
       "      <td>NaN</td>\n",
       "    </tr>\n",
       "    <tr>\n",
       "      <th>Precision</th>\n",
       "      <td>0.000000</td>\n",
       "    </tr>\n",
       "    <tr>\n",
       "      <th>F1</th>\n",
       "      <td>NaN</td>\n",
       "    </tr>\n",
       "    <tr>\n",
       "      <th>NDCG@5</th>\n",
       "      <td>0.846328</td>\n",
       "    </tr>\n",
       "  </tbody>\n",
       "</table>\n",
       "</div>"
      ],
      "text/plain": [
       "           Hybrid_SVD_CoClustering\n",
       "RMSE                      4.349262\n",
       "MAE                       4.307986\n",
       "Recall                         NaN\n",
       "Precision                 0.000000\n",
       "F1                             NaN\n",
       "NDCG@5                    0.846328"
      ]
     },
     "execution_count": 69,
     "metadata": {},
     "output_type": "execute_result"
    }
   ],
   "source": [
    "hb_svd_clust = eval.evaluate(df_hybrid, topn=5, rating_cutoff=5).rename(columns={'value':'Hybrid_SVD_CoClustering'})\n",
    "hb_svd_clust"
   ]
  },
  {
   "cell_type": "code",
   "execution_count": 70,
   "id": "3b7edc6e",
   "metadata": {},
   "outputs": [],
   "source": [
    "# export to Excel submission\n",
    "\n",
    "df_hybrid = df_hybrid[['uid','iid','est']]\n",
    "df_hybrid[\"ID\"] = df_hybrid['uid'].astype(str) + df_hybrid['iid'].astype(str) \n",
    "df_hybrid['overall'] = df_hybrid['est']\n",
    "df_hybrid = df_hybrid[['ID','overall']]\n",
    "df_hybrid.to_csv(r'C:\\Users\\ffan1\\OneDrive - IESEG (1)\\Recommendation Systems\\Individual Project\\Exports\\4.csv',index=False)"
   ]
  },
  {
   "cell_type": "markdown",
   "id": "4afc63d1",
   "metadata": {},
   "source": [
    "# Improvements and Conclusions"
   ]
  },
  {
   "cell_type": "markdown",
   "id": "cc125925",
   "metadata": {},
   "source": [
    "#### Each algorithm is cross validated to find the best parameters, and then evaluated based on RMSE. \n",
    "#### The RMSE results on this Jupyter Notebook (above 4.0) for all algorithms do not match with my Kaggle submission RMSE.\n",
    "#### Since all my Kaggle submission RMSEs are between the 1.03 - 1.06 range, the best Kaggle submission is 1.03631.\n",
    "#### Further investigation is needed to determine the discrepancy between my test RMSE here and RMSE on Kaggle.\n",
    "#### Possible reasons: difference of random state; different samples of test set, thank you."
   ]
  },
  {
   "cell_type": "markdown",
   "id": "80af7158",
   "metadata": {},
   "source": [
    "#### Sources:\n",
    "#### https://surprise.readthedocs.io/en/stable/model_selection.html\n",
    "#### https://surprise.readthedocs.io/en/stable/getting_started.html#grid-search-note\n",
    "#### https://surprise.readthedocs.io/en/stable/getting_started.html"
   ]
  }
 ],
 "metadata": {
  "kernelspec": {
   "display_name": "Python 3",
   "language": "python",
   "name": "python3"
  },
  "language_info": {
   "codemirror_mode": {
    "name": "ipython",
    "version": 3
   },
   "file_extension": ".py",
   "mimetype": "text/x-python",
   "name": "python",
   "nbconvert_exporter": "python",
   "pygments_lexer": "ipython3",
   "version": "3.8.8"
  }
 },
 "nbformat": 4,
 "nbformat_minor": 5
}
